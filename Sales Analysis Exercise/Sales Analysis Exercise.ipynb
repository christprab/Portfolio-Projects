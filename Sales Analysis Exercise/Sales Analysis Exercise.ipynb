{
 "cells": [
  {
   "cell_type": "markdown",
   "id": "3980d049",
   "metadata": {},
   "source": [
    "# This is a simple project of sales analysis"
   ]
  },
  {
   "cell_type": "markdown",
   "id": "93c49497",
   "metadata": {},
   "source": [
    "### First things first we need to import all the libraries that we need"
   ]
  },
  {
   "cell_type": "code",
   "execution_count": 1,
   "id": "e950cf7d",
   "metadata": {},
   "outputs": [],
   "source": [
    "import pandas as pd\n",
    "import os"
   ]
  },
  {
   "cell_type": "markdown",
   "id": "6c74a507",
   "metadata": {},
   "source": [
    "The datafile that I got here is split by month and we need to merge it first"
   ]
  },
  {
   "cell_type": "code",
   "execution_count": 2,
   "id": "81af6937",
   "metadata": {},
   "outputs": [],
   "source": [
    "path = \"./Sales_Data\"\n",
    "files = [file for file in os.listdir(path) if not file.startswith('.')] # Ignore hidden files\n",
    "\n",
    "sales_all = pd.DataFrame()\n",
    "\n",
    "for file in files:\n",
    "    current_data = pd.read_csv(path+\"/\"+file)\n",
    "    sales_all = pd.concat([sales_all, current_data])\n",
    "    \n",
    "sales_all.to_csv(\"sales_all.csv\", index=False)"
   ]
  },
  {
   "cell_type": "markdown",
   "id": "70ac85b3",
   "metadata": {},
   "source": [
    "Now we check if the data is all compiled in one file"
   ]
  },
  {
   "cell_type": "code",
   "execution_count": 3,
   "id": "0e06b7af",
   "metadata": {
    "scrolled": true
   },
   "outputs": [
    {
     "data": {
      "text/html": [
       "<div>\n",
       "<style scoped>\n",
       "    .dataframe tbody tr th:only-of-type {\n",
       "        vertical-align: middle;\n",
       "    }\n",
       "\n",
       "    .dataframe tbody tr th {\n",
       "        vertical-align: top;\n",
       "    }\n",
       "\n",
       "    .dataframe thead th {\n",
       "        text-align: right;\n",
       "    }\n",
       "</style>\n",
       "<table border=\"1\" class=\"dataframe\">\n",
       "  <thead>\n",
       "    <tr style=\"text-align: right;\">\n",
       "      <th></th>\n",
       "      <th>Order ID</th>\n",
       "      <th>Product</th>\n",
       "      <th>Quantity Ordered</th>\n",
       "      <th>Price Each</th>\n",
       "      <th>Order Date</th>\n",
       "      <th>Purchase Address</th>\n",
       "    </tr>\n",
       "  </thead>\n",
       "  <tbody>\n",
       "    <tr>\n",
       "      <th>1410</th>\n",
       "      <td>260698</td>\n",
       "      <td>Bose SoundSport Headphones</td>\n",
       "      <td>1</td>\n",
       "      <td>99.99</td>\n",
       "      <td>10/13/19 11:22</td>\n",
       "      <td>459 Dogwood St, Los Angeles, CA 90001</td>\n",
       "    </tr>\n",
       "    <tr>\n",
       "      <th>1777</th>\n",
       "      <td>195770</td>\n",
       "      <td>27in FHD Monitor</td>\n",
       "      <td>1</td>\n",
       "      <td>149.99</td>\n",
       "      <td>05/16/19 14:26</td>\n",
       "      <td>708 7th St, New York City, NY 10001</td>\n",
       "    </tr>\n",
       "    <tr>\n",
       "      <th>2305</th>\n",
       "      <td>297854</td>\n",
       "      <td>AAA Batteries (4-pack)</td>\n",
       "      <td>1</td>\n",
       "      <td>2.99</td>\n",
       "      <td>12/12/19 23:34</td>\n",
       "      <td>350 8th St, San Francisco, CA 94016</td>\n",
       "    </tr>\n",
       "    <tr>\n",
       "      <th>1923</th>\n",
       "      <td>178389</td>\n",
       "      <td>USB-C Charging Cable</td>\n",
       "      <td>1</td>\n",
       "      <td>11.95</td>\n",
       "      <td>04/18/19 17:03</td>\n",
       "      <td>403 Lakeview St, Seattle, WA 98101</td>\n",
       "    </tr>\n",
       "    <tr>\n",
       "      <th>2946</th>\n",
       "      <td>239494</td>\n",
       "      <td>34in Ultrawide Monitor</td>\n",
       "      <td>1</td>\n",
       "      <td>379.99</td>\n",
       "      <td>08/28/19 17:16</td>\n",
       "      <td>600 13th St, Boston, MA 02215</td>\n",
       "    </tr>\n",
       "    <tr>\n",
       "      <th>10405</th>\n",
       "      <td>160455</td>\n",
       "      <td>Wired Headphones</td>\n",
       "      <td>1</td>\n",
       "      <td>11.99</td>\n",
       "      <td>02/24/19 00:15</td>\n",
       "      <td>721 Hill St, Atlanta, GA 30301</td>\n",
       "    </tr>\n",
       "    <tr>\n",
       "      <th>8688</th>\n",
       "      <td>184853</td>\n",
       "      <td>Vareebadd Phone</td>\n",
       "      <td>1</td>\n",
       "      <td>400</td>\n",
       "      <td>04/17/19 10:07</td>\n",
       "      <td>509 6th St, Boston, MA 02215</td>\n",
       "    </tr>\n",
       "    <tr>\n",
       "      <th>6388</th>\n",
       "      <td>229019</td>\n",
       "      <td>AA Batteries (4-pack)</td>\n",
       "      <td>1</td>\n",
       "      <td>3.84</td>\n",
       "      <td>07/05/19 12:02</td>\n",
       "      <td>438 Cherry St, San Francisco, CA 94016</td>\n",
       "    </tr>\n",
       "    <tr>\n",
       "      <th>4544</th>\n",
       "      <td>227257</td>\n",
       "      <td>AA Batteries (4-pack)</td>\n",
       "      <td>1</td>\n",
       "      <td>3.84</td>\n",
       "      <td>07/31/19 13:27</td>\n",
       "      <td>126 4th St, New York City, NY 10001</td>\n",
       "    </tr>\n",
       "    <tr>\n",
       "      <th>5525</th>\n",
       "      <td>300923</td>\n",
       "      <td>Bose SoundSport Headphones</td>\n",
       "      <td>1</td>\n",
       "      <td>99.99</td>\n",
       "      <td>12/12/19 16:37</td>\n",
       "      <td>788 2nd St, New York City, NY 10001</td>\n",
       "    </tr>\n",
       "  </tbody>\n",
       "</table>\n",
       "</div>"
      ],
      "text/plain": [
       "      Order ID                     Product Quantity Ordered Price Each  \\\n",
       "1410    260698  Bose SoundSport Headphones                1      99.99   \n",
       "1777    195770            27in FHD Monitor                1     149.99   \n",
       "2305    297854      AAA Batteries (4-pack)                1       2.99   \n",
       "1923    178389        USB-C Charging Cable                1      11.95   \n",
       "2946    239494      34in Ultrawide Monitor                1     379.99   \n",
       "10405   160455            Wired Headphones                1      11.99   \n",
       "8688    184853             Vareebadd Phone                1        400   \n",
       "6388    229019       AA Batteries (4-pack)                1       3.84   \n",
       "4544    227257       AA Batteries (4-pack)                1       3.84   \n",
       "5525    300923  Bose SoundSport Headphones                1      99.99   \n",
       "\n",
       "           Order Date                        Purchase Address  \n",
       "1410   10/13/19 11:22   459 Dogwood St, Los Angeles, CA 90001  \n",
       "1777   05/16/19 14:26     708 7th St, New York City, NY 10001  \n",
       "2305   12/12/19 23:34     350 8th St, San Francisco, CA 94016  \n",
       "1923   04/18/19 17:03      403 Lakeview St, Seattle, WA 98101  \n",
       "2946   08/28/19 17:16           600 13th St, Boston, MA 02215  \n",
       "10405  02/24/19 00:15          721 Hill St, Atlanta, GA 30301  \n",
       "8688   04/17/19 10:07            509 6th St, Boston, MA 02215  \n",
       "6388   07/05/19 12:02  438 Cherry St, San Francisco, CA 94016  \n",
       "4544   07/31/19 13:27     126 4th St, New York City, NY 10001  \n",
       "5525   12/12/19 16:37     788 2nd St, New York City, NY 10001  "
      ]
     },
     "execution_count": 3,
     "metadata": {},
     "output_type": "execute_result"
    }
   ],
   "source": [
    "sales_all.sample(10)"
   ]
  },
  {
   "cell_type": "markdown",
   "id": "03444392",
   "metadata": {},
   "source": [
    "Notice that we have variance of month in the order date column, now lets check the info in our data"
   ]
  },
  {
   "cell_type": "code",
   "execution_count": 4,
   "id": "516cbfc3",
   "metadata": {},
   "outputs": [
    {
     "name": "stdout",
     "output_type": "stream",
     "text": [
      "<class 'pandas.core.frame.DataFrame'>\n",
      "Int64Index: 186850 entries, 0 to 11685\n",
      "Data columns (total 6 columns):\n",
      " #   Column            Non-Null Count   Dtype \n",
      "---  ------            --------------   ----- \n",
      " 0   Order ID          186305 non-null  object\n",
      " 1   Product           186305 non-null  object\n",
      " 2   Quantity Ordered  186305 non-null  object\n",
      " 3   Price Each        186305 non-null  object\n",
      " 4   Order Date        186305 non-null  object\n",
      " 5   Purchase Address  186305 non-null  object\n",
      "dtypes: object(6)\n",
      "memory usage: 10.0+ MB\n"
     ]
    },
    {
     "data": {
      "text/html": [
       "<div>\n",
       "<style scoped>\n",
       "    .dataframe tbody tr th:only-of-type {\n",
       "        vertical-align: middle;\n",
       "    }\n",
       "\n",
       "    .dataframe tbody tr th {\n",
       "        vertical-align: top;\n",
       "    }\n",
       "\n",
       "    .dataframe thead th {\n",
       "        text-align: right;\n",
       "    }\n",
       "</style>\n",
       "<table border=\"1\" class=\"dataframe\">\n",
       "  <thead>\n",
       "    <tr style=\"text-align: right;\">\n",
       "      <th></th>\n",
       "      <th>Order ID</th>\n",
       "      <th>Product</th>\n",
       "      <th>Quantity Ordered</th>\n",
       "      <th>Price Each</th>\n",
       "      <th>Order Date</th>\n",
       "      <th>Purchase Address</th>\n",
       "    </tr>\n",
       "  </thead>\n",
       "  <tbody>\n",
       "    <tr>\n",
       "      <th>count</th>\n",
       "      <td>186305</td>\n",
       "      <td>186305</td>\n",
       "      <td>186305</td>\n",
       "      <td>186305</td>\n",
       "      <td>186305</td>\n",
       "      <td>186305</td>\n",
       "    </tr>\n",
       "    <tr>\n",
       "      <th>unique</th>\n",
       "      <td>178438</td>\n",
       "      <td>20</td>\n",
       "      <td>10</td>\n",
       "      <td>24</td>\n",
       "      <td>142396</td>\n",
       "      <td>140788</td>\n",
       "    </tr>\n",
       "    <tr>\n",
       "      <th>top</th>\n",
       "      <td>Order ID</td>\n",
       "      <td>USB-C Charging Cable</td>\n",
       "      <td>1</td>\n",
       "      <td>11.95</td>\n",
       "      <td>Order Date</td>\n",
       "      <td>Purchase Address</td>\n",
       "    </tr>\n",
       "    <tr>\n",
       "      <th>freq</th>\n",
       "      <td>355</td>\n",
       "      <td>21903</td>\n",
       "      <td>168552</td>\n",
       "      <td>21903</td>\n",
       "      <td>355</td>\n",
       "      <td>355</td>\n",
       "    </tr>\n",
       "  </tbody>\n",
       "</table>\n",
       "</div>"
      ],
      "text/plain": [
       "        Order ID               Product Quantity Ordered Price Each  \\\n",
       "count     186305                186305           186305     186305   \n",
       "unique    178438                    20               10         24   \n",
       "top     Order ID  USB-C Charging Cable                1      11.95   \n",
       "freq         355                 21903           168552      21903   \n",
       "\n",
       "        Order Date  Purchase Address  \n",
       "count       186305            186305  \n",
       "unique      142396            140788  \n",
       "top     Order Date  Purchase Address  \n",
       "freq           355               355  "
      ]
     },
     "execution_count": 4,
     "metadata": {},
     "output_type": "execute_result"
    }
   ],
   "source": [
    "sales_all.info()\n",
    "sales_all.describe()"
   ]
  },
  {
   "cell_type": "markdown",
   "id": "7e02e022",
   "metadata": {},
   "source": [
    "### Additonal formatting & Cleaning the data"
   ]
  },
  {
   "cell_type": "markdown",
   "id": "839430cb",
   "metadata": {},
   "source": [
    "Now we drop all the NA values in the data"
   ]
  },
  {
   "cell_type": "code",
   "execution_count": 5,
   "id": "1e743d0e",
   "metadata": {},
   "outputs": [],
   "source": [
    "sales_all = sales_all.dropna()"
   ]
  },
  {
   "cell_type": "code",
   "execution_count": 7,
   "id": "ad9b6cc7",
   "metadata": {},
   "outputs": [
    {
     "data": {
      "text/plain": [
       "Order ID                                     177055\n",
       "Product                    Lightning Charging Cable\n",
       "Quantity Ordered                                  1\n",
       "Price Each                                    14.95\n",
       "Order Date                           04/09/19 12:37\n",
       "Purchase Address    59 Forest St, Atlanta, GA 30301\n",
       "Name: 520, dtype: object"
      ]
     },
     "execution_count": 7,
     "metadata": {},
     "output_type": "execute_result"
    }
   ],
   "source": [
    "# filtered all the unrelated values\n",
    "sales_all = sales_all[sales_all['Order Date'].str[0:2]!='Or']"
   ]
  },
  {
   "cell_type": "markdown",
   "id": "40bd1356",
   "metadata": {},
   "source": [
    "Here we gonna format our column into lowercase"
   ]
  },
  {
   "cell_type": "code",
   "execution_count": 8,
   "id": "d5b20d41",
   "metadata": {
    "scrolled": true
   },
   "outputs": [],
   "source": [
    "#set columns to lowercase\n",
    "sales_all.columns = sales_all.columns.str.lower()\n"
   ]
  },
  {
   "cell_type": "markdown",
   "id": "21bcab9c",
   "metadata": {},
   "source": [
    "Now we check the categorical and numerical data and set it into the correct type"
   ]
  },
  {
   "cell_type": "code",
   "execution_count": 9,
   "id": "6db5c29e",
   "metadata": {
    "scrolled": true
   },
   "outputs": [],
   "source": [
    "sales_all['quantity ordered'] = pd.to_numeric(sales_all['quantity ordered'])\n",
    "sales_all['price each'] = pd.to_numeric(sales_all['price each'])"
   ]
  },
  {
   "cell_type": "markdown",
   "id": "a0fd76aa",
   "metadata": {},
   "source": [
    "### Task 2: Fix the order date column"
   ]
  },
  {
   "cell_type": "code",
   "execution_count": 10,
   "id": "cff347e6",
   "metadata": {},
   "outputs": [],
   "source": [
    "#1 The approach that I used here is to format the data into a datetime datatype\n",
    "\n",
    "sales_all['order date'] = pd.to_datetime(sales_all['order date'],\\\n",
    "                        format= '%m/%d/%y %H:%M', errors='coerce')\n",
    "#2 now we extract the data and added it into new column\n",
    "sales_all['order day'] = pd.DatetimeIndex(sales_all['order date']).day\n",
    "sales_all['order month'] = pd.DatetimeIndex(sales_all['order date']).month\n",
    "sales_all['order year'] = pd.DatetimeIndex(sales_all['order date']).year\n"
   ]
  },
  {
   "cell_type": "markdown",
   "id": "a7d02f2d",
   "metadata": {},
   "source": [
    "#### Question no 1: What was the best month for sales? How much was earned in that month"
   ]
  },
  {
   "cell_type": "markdown",
   "id": "4e6aa079",
   "metadata": {},
   "source": [
    "First I'm gonna add new column which is sales from quantity ordered*price each"
   ]
  },
  {
   "cell_type": "code",
   "execution_count": 26,
   "id": "c64992dc",
   "metadata": {},
   "outputs": [],
   "source": [
    "sales_all['sales'] = sales_all['quantity ordered'].astype('int') * sales_all['price each'].astype('float')\n",
    "sales_all['sales'] = sales_all['sales'].astype('int')"
   ]
  },
  {
   "cell_type": "code",
   "execution_count": 27,
   "id": "57881f3d",
   "metadata": {},
   "outputs": [
    {
     "data": {
      "text/html": [
       "<div>\n",
       "<style scoped>\n",
       "    .dataframe tbody tr th:only-of-type {\n",
       "        vertical-align: middle;\n",
       "    }\n",
       "\n",
       "    .dataframe tbody tr th {\n",
       "        vertical-align: top;\n",
       "    }\n",
       "\n",
       "    .dataframe thead th {\n",
       "        text-align: right;\n",
       "    }\n",
       "</style>\n",
       "<table border=\"1\" class=\"dataframe\">\n",
       "  <thead>\n",
       "    <tr style=\"text-align: right;\">\n",
       "      <th></th>\n",
       "      <th>quantity ordered</th>\n",
       "      <th>price each</th>\n",
       "      <th>order day</th>\n",
       "      <th>order year</th>\n",
       "      <th>sales</th>\n",
       "    </tr>\n",
       "    <tr>\n",
       "      <th>order month</th>\n",
       "      <th></th>\n",
       "      <th></th>\n",
       "      <th></th>\n",
       "      <th></th>\n",
       "      <th></th>\n",
       "    </tr>\n",
       "  </thead>\n",
       "  <tbody>\n",
       "    <tr>\n",
       "      <th>1</th>\n",
       "      <td>10903</td>\n",
       "      <td>1811768.38</td>\n",
       "      <td>155814</td>\n",
       "      <td>19602505</td>\n",
       "      <td>1815143</td>\n",
       "    </tr>\n",
       "    <tr>\n",
       "      <th>2</th>\n",
       "      <td>13449</td>\n",
       "      <td>2188884.72</td>\n",
       "      <td>174408</td>\n",
       "      <td>24177525</td>\n",
       "      <td>2193165</td>\n",
       "    </tr>\n",
       "    <tr>\n",
       "      <th>3</th>\n",
       "      <td>17005</td>\n",
       "      <td>2791207.83</td>\n",
       "      <td>241774</td>\n",
       "      <td>30593907</td>\n",
       "      <td>2795907</td>\n",
       "    </tr>\n",
       "    <tr>\n",
       "      <th>4</th>\n",
       "      <td>20558</td>\n",
       "      <td>3367671.02</td>\n",
       "      <td>282960</td>\n",
       "      <td>36905301</td>\n",
       "      <td>3377215</td>\n",
       "    </tr>\n",
       "    <tr>\n",
       "      <th>5</th>\n",
       "      <td>18667</td>\n",
       "      <td>3135125.13</td>\n",
       "      <td>264875</td>\n",
       "      <td>33446754</td>\n",
       "      <td>3140375</td>\n",
       "    </tr>\n",
       "    <tr>\n",
       "      <th>6</th>\n",
       "      <td>15253</td>\n",
       "      <td>2562025.61</td>\n",
       "      <td>209880</td>\n",
       "      <td>27365526</td>\n",
       "      <td>2567871</td>\n",
       "    </tr>\n",
       "    <tr>\n",
       "      <th>7</th>\n",
       "      <td>16072</td>\n",
       "      <td>2632539.56</td>\n",
       "      <td>227910</td>\n",
       "      <td>28857567</td>\n",
       "      <td>2637209</td>\n",
       "    </tr>\n",
       "    <tr>\n",
       "      <th>8</th>\n",
       "      <td>13448</td>\n",
       "      <td>2230345.42</td>\n",
       "      <td>192315</td>\n",
       "      <td>24149259</td>\n",
       "      <td>2235667</td>\n",
       "    </tr>\n",
       "    <tr>\n",
       "      <th>9</th>\n",
       "      <td>13109</td>\n",
       "      <td>2084992.09</td>\n",
       "      <td>180101</td>\n",
       "      <td>23462799</td>\n",
       "      <td>2088915</td>\n",
       "    </tr>\n",
       "    <tr>\n",
       "      <th>10</th>\n",
       "      <td>22703</td>\n",
       "      <td>3715554.83</td>\n",
       "      <td>326141</td>\n",
       "      <td>40949358</td>\n",
       "      <td>3721615</td>\n",
       "    </tr>\n",
       "    <tr>\n",
       "      <th>11</th>\n",
       "      <td>19798</td>\n",
       "      <td>3180600.68</td>\n",
       "      <td>272854</td>\n",
       "      <td>35479887</td>\n",
       "      <td>3186604</td>\n",
       "    </tr>\n",
       "    <tr>\n",
       "      <th>12</th>\n",
       "      <td>28114</td>\n",
       "      <td>4588415.41</td>\n",
       "      <td>401453</td>\n",
       "      <td>50442696</td>\n",
       "      <td>4594929</td>\n",
       "    </tr>\n",
       "  </tbody>\n",
       "</table>\n",
       "</div>"
      ],
      "text/plain": [
       "             quantity ordered  price each  order day  order year    sales\n",
       "order month                                                              \n",
       "1                       10903  1811768.38     155814    19602505  1815143\n",
       "2                       13449  2188884.72     174408    24177525  2193165\n",
       "3                       17005  2791207.83     241774    30593907  2795907\n",
       "4                       20558  3367671.02     282960    36905301  3377215\n",
       "5                       18667  3135125.13     264875    33446754  3140375\n",
       "6                       15253  2562025.61     209880    27365526  2567871\n",
       "7                       16072  2632539.56     227910    28857567  2637209\n",
       "8                       13448  2230345.42     192315    24149259  2235667\n",
       "9                       13109  2084992.09     180101    23462799  2088915\n",
       "10                      22703  3715554.83     326141    40949358  3721615\n",
       "11                      19798  3180600.68     272854    35479887  3186604\n",
       "12                      28114  4588415.41     401453    50442696  4594929"
      ]
     },
     "execution_count": 27,
     "metadata": {},
     "output_type": "execute_result"
    }
   ],
   "source": [
    "result1 = sales_all.groupby(['order month']).sum()\n",
    "result1"
   ]
  },
  {
   "cell_type": "markdown",
   "id": "4755a5c5",
   "metadata": {},
   "source": [
    "Now let's see how it looks like if we plot it into matplotlib"
   ]
  },
  {
   "cell_type": "code",
   "execution_count": 32,
   "id": "9698d89a",
   "metadata": {},
   "outputs": [
    {
     "data": {
      "image/png": "[encoded data removed]",
      "text/plain": [
       "<Figure size 640x480 with 1 Axes>"
      ]
     },
     "metadata": {},
     "output_type": "display_data"
    }
   ],
   "source": [
    "import matplotlib.pyplot as plt\n",
    "%matplotlib inline\n",
    "\n",
    "months = range(1,13)\n",
    "plt.bar(months, result1['sales'])\n",
    "plt.xticks(months)\n",
    "plt.xlabel('Month in number')\n",
    "plt.ylabel('Sales in USD ($)');\n",
    "\n",
    "\n"
   ]
  },
  {
   "cell_type": "markdown",
   "id": "8c0020a3",
   "metadata": {},
   "source": [
    "### Question 2: What City has the highest number of sales"
   ]
  },
  {
   "cell_type": "markdown",
   "id": "8d1fc18e",
   "metadata": {},
   "source": [
    "For this question we need to extract information from the address column"
   ]
  },
  {
   "cell_type": "code",
   "execution_count": 75,
   "id": "d8a21d51",
   "metadata": {},
   "outputs": [
    {
     "data": {
      "text/html": [
       "<div>\n",
       "<style scoped>\n",
       "    .dataframe tbody tr th:only-of-type {\n",
       "        vertical-align: middle;\n",
       "    }\n",
       "\n",
       "    .dataframe tbody tr th {\n",
       "        vertical-align: top;\n",
       "    }\n",
       "\n",
       "    .dataframe thead th {\n",
       "        text-align: right;\n",
       "    }\n",
       "</style>\n",
       "<table border=\"1\" class=\"dataframe\">\n",
       "  <thead>\n",
       "    <tr style=\"text-align: right;\">\n",
       "      <th></th>\n",
       "      <th>order id</th>\n",
       "      <th>product</th>\n",
       "      <th>quantity ordered</th>\n",
       "      <th>price each</th>\n",
       "      <th>order date</th>\n",
       "      <th>purchase address</th>\n",
       "      <th>order day</th>\n",
       "      <th>order month</th>\n",
       "      <th>order year</th>\n",
       "      <th>sales</th>\n",
       "      <th>city</th>\n",
       "    </tr>\n",
       "  </thead>\n",
       "  <tbody>\n",
       "    <tr>\n",
       "      <th>0</th>\n",
       "      <td>176558</td>\n",
       "      <td>USB-C Charging Cable</td>\n",
       "      <td>2</td>\n",
       "      <td>11.95</td>\n",
       "      <td>2019-04-19 08:46:00</td>\n",
       "      <td>917 1st St, Dallas, TX 75001</td>\n",
       "      <td>19</td>\n",
       "      <td>4</td>\n",
       "      <td>2019</td>\n",
       "      <td>23</td>\n",
       "      <td>Dallas (TX)</td>\n",
       "    </tr>\n",
       "    <tr>\n",
       "      <th>2</th>\n",
       "      <td>176559</td>\n",
       "      <td>Bose SoundSport Headphones</td>\n",
       "      <td>1</td>\n",
       "      <td>99.99</td>\n",
       "      <td>2019-04-07 22:30:00</td>\n",
       "      <td>682 Chestnut St, Boston, MA 02215</td>\n",
       "      <td>7</td>\n",
       "      <td>4</td>\n",
       "      <td>2019</td>\n",
       "      <td>99</td>\n",
       "      <td>Boston (MA)</td>\n",
       "    </tr>\n",
       "    <tr>\n",
       "      <th>3</th>\n",
       "      <td>176560</td>\n",
       "      <td>Google Phone</td>\n",
       "      <td>1</td>\n",
       "      <td>600.00</td>\n",
       "      <td>2019-04-12 14:38:00</td>\n",
       "      <td>669 Spruce St, Los Angeles, CA 90001</td>\n",
       "      <td>12</td>\n",
       "      <td>4</td>\n",
       "      <td>2019</td>\n",
       "      <td>600</td>\n",
       "      <td>Los Angeles (CA)</td>\n",
       "    </tr>\n",
       "    <tr>\n",
       "      <th>4</th>\n",
       "      <td>176560</td>\n",
       "      <td>Wired Headphones</td>\n",
       "      <td>1</td>\n",
       "      <td>11.99</td>\n",
       "      <td>2019-04-12 14:38:00</td>\n",
       "      <td>669 Spruce St, Los Angeles, CA 90001</td>\n",
       "      <td>12</td>\n",
       "      <td>4</td>\n",
       "      <td>2019</td>\n",
       "      <td>11</td>\n",
       "      <td>Los Angeles (CA)</td>\n",
       "    </tr>\n",
       "    <tr>\n",
       "      <th>5</th>\n",
       "      <td>176561</td>\n",
       "      <td>Wired Headphones</td>\n",
       "      <td>1</td>\n",
       "      <td>11.99</td>\n",
       "      <td>2019-04-30 09:27:00</td>\n",
       "      <td>333 8th St, Los Angeles, CA 90001</td>\n",
       "      <td>30</td>\n",
       "      <td>4</td>\n",
       "      <td>2019</td>\n",
       "      <td>11</td>\n",
       "      <td>Los Angeles (CA)</td>\n",
       "    </tr>\n",
       "    <tr>\n",
       "      <th>...</th>\n",
       "      <td>...</td>\n",
       "      <td>...</td>\n",
       "      <td>...</td>\n",
       "      <td>...</td>\n",
       "      <td>...</td>\n",
       "      <td>...</td>\n",
       "      <td>...</td>\n",
       "      <td>...</td>\n",
       "      <td>...</td>\n",
       "      <td>...</td>\n",
       "      <td>...</td>\n",
       "    </tr>\n",
       "    <tr>\n",
       "      <th>11681</th>\n",
       "      <td>259353</td>\n",
       "      <td>AAA Batteries (4-pack)</td>\n",
       "      <td>3</td>\n",
       "      <td>2.99</td>\n",
       "      <td>2019-09-17 20:56:00</td>\n",
       "      <td>840 Highland St, Los Angeles, CA 90001</td>\n",
       "      <td>17</td>\n",
       "      <td>9</td>\n",
       "      <td>2019</td>\n",
       "      <td>8</td>\n",
       "      <td>Los Angeles (CA)</td>\n",
       "    </tr>\n",
       "    <tr>\n",
       "      <th>11682</th>\n",
       "      <td>259354</td>\n",
       "      <td>iPhone</td>\n",
       "      <td>1</td>\n",
       "      <td>700.00</td>\n",
       "      <td>2019-09-01 16:00:00</td>\n",
       "      <td>216 Dogwood St, San Francisco, CA 94016</td>\n",
       "      <td>1</td>\n",
       "      <td>9</td>\n",
       "      <td>2019</td>\n",
       "      <td>700</td>\n",
       "      <td>San Francisco (CA)</td>\n",
       "    </tr>\n",
       "    <tr>\n",
       "      <th>11683</th>\n",
       "      <td>259355</td>\n",
       "      <td>iPhone</td>\n",
       "      <td>1</td>\n",
       "      <td>700.00</td>\n",
       "      <td>2019-09-23 07:39:00</td>\n",
       "      <td>220 12th St, San Francisco, CA 94016</td>\n",
       "      <td>23</td>\n",
       "      <td>9</td>\n",
       "      <td>2019</td>\n",
       "      <td>700</td>\n",
       "      <td>San Francisco (CA)</td>\n",
       "    </tr>\n",
       "    <tr>\n",
       "      <th>11684</th>\n",
       "      <td>259356</td>\n",
       "      <td>34in Ultrawide Monitor</td>\n",
       "      <td>1</td>\n",
       "      <td>379.99</td>\n",
       "      <td>2019-09-19 17:30:00</td>\n",
       "      <td>511 Forest St, San Francisco, CA 94016</td>\n",
       "      <td>19</td>\n",
       "      <td>9</td>\n",
       "      <td>2019</td>\n",
       "      <td>379</td>\n",
       "      <td>San Francisco (CA)</td>\n",
       "    </tr>\n",
       "    <tr>\n",
       "      <th>11685</th>\n",
       "      <td>259357</td>\n",
       "      <td>USB-C Charging Cable</td>\n",
       "      <td>1</td>\n",
       "      <td>11.95</td>\n",
       "      <td>2019-09-30 00:18:00</td>\n",
       "      <td>250 Meadow St, San Francisco, CA 94016</td>\n",
       "      <td>30</td>\n",
       "      <td>9</td>\n",
       "      <td>2019</td>\n",
       "      <td>11</td>\n",
       "      <td>San Francisco (CA)</td>\n",
       "    </tr>\n",
       "  </tbody>\n",
       "</table>\n",
       "<p>185950 rows × 11 columns</p>\n",
       "</div>"
      ],
      "text/plain": [
       "      order id                     product  quantity ordered  price each  \\\n",
       "0       176558        USB-C Charging Cable                 2       11.95   \n",
       "2       176559  Bose SoundSport Headphones                 1       99.99   \n",
       "3       176560                Google Phone                 1      600.00   \n",
       "4       176560            Wired Headphones                 1       11.99   \n",
       "5       176561            Wired Headphones                 1       11.99   \n",
       "...        ...                         ...               ...         ...   \n",
       "11681   259353      AAA Batteries (4-pack)                 3        2.99   \n",
       "11682   259354                      iPhone                 1      700.00   \n",
       "11683   259355                      iPhone                 1      700.00   \n",
       "11684   259356      34in Ultrawide Monitor                 1      379.99   \n",
       "11685   259357        USB-C Charging Cable                 1       11.95   \n",
       "\n",
       "               order date                         purchase address  order day  \\\n",
       "0     2019-04-19 08:46:00             917 1st St, Dallas, TX 75001         19   \n",
       "2     2019-04-07 22:30:00        682 Chestnut St, Boston, MA 02215          7   \n",
       "3     2019-04-12 14:38:00     669 Spruce St, Los Angeles, CA 90001         12   \n",
       "4     2019-04-12 14:38:00     669 Spruce St, Los Angeles, CA 90001         12   \n",
       "5     2019-04-30 09:27:00        333 8th St, Los Angeles, CA 90001         30   \n",
       "...                   ...                                      ...        ...   \n",
       "11681 2019-09-17 20:56:00   840 Highland St, Los Angeles, CA 90001         17   \n",
       "11682 2019-09-01 16:00:00  216 Dogwood St, San Francisco, CA 94016          1   \n",
       "11683 2019-09-23 07:39:00     220 12th St, San Francisco, CA 94016         23   \n",
       "11684 2019-09-19 17:30:00   511 Forest St, San Francisco, CA 94016         19   \n",
       "11685 2019-09-30 00:18:00   250 Meadow St, San Francisco, CA 94016         30   \n",
       "\n",
       "       order month  order year  sales                city  \n",
       "0                4        2019     23         Dallas (TX)  \n",
       "2                4        2019     99         Boston (MA)  \n",
       "3                4        2019    600    Los Angeles (CA)  \n",
       "4                4        2019     11    Los Angeles (CA)  \n",
       "5                4        2019     11    Los Angeles (CA)  \n",
       "...            ...         ...    ...                 ...  \n",
       "11681            9        2019      8    Los Angeles (CA)  \n",
       "11682            9        2019    700  San Francisco (CA)  \n",
       "11683            9        2019    700  San Francisco (CA)  \n",
       "11684            9        2019    379  San Francisco (CA)  \n",
       "11685            9        2019     11  San Francisco (CA)  \n",
       "\n",
       "[185950 rows x 11 columns]"
      ]
     },
     "execution_count": 75,
     "metadata": {},
     "output_type": "execute_result"
    }
   ],
   "source": [
    "#This is my approach to extract the string information from the column\n",
    "city = sales_all['purchase address'].str.split(pat=',',expand=True)[1].str.strip()\n",
    "state = sales_all['purchase address'].str.split(pat=',',expand=True)[2].str.strip()\n",
    "state = state.str[:2]\n",
    "#concatenate the value\n",
    "sales_all['city'] = city+' '+'('+state+')'\n"
   ]
  },
  {
   "cell_type": "code",
   "execution_count": 77,
   "id": "7e785624",
   "metadata": {},
   "outputs": [
    {
     "data": {
      "text/html": [
       "<div>\n",
       "<style scoped>\n",
       "    .dataframe tbody tr th:only-of-type {\n",
       "        vertical-align: middle;\n",
       "    }\n",
       "\n",
       "    .dataframe tbody tr th {\n",
       "        vertical-align: top;\n",
       "    }\n",
       "\n",
       "    .dataframe thead th {\n",
       "        text-align: right;\n",
       "    }\n",
       "</style>\n",
       "<table border=\"1\" class=\"dataframe\">\n",
       "  <thead>\n",
       "    <tr style=\"text-align: right;\">\n",
       "      <th></th>\n",
       "      <th>quantity ordered</th>\n",
       "      <th>price each</th>\n",
       "      <th>order day</th>\n",
       "      <th>order month</th>\n",
       "      <th>order year</th>\n",
       "      <th>sales</th>\n",
       "    </tr>\n",
       "    <tr>\n",
       "      <th>city</th>\n",
       "      <th></th>\n",
       "      <th></th>\n",
       "      <th></th>\n",
       "      <th></th>\n",
       "      <th></th>\n",
       "      <th></th>\n",
       "    </tr>\n",
       "  </thead>\n",
       "  <tbody>\n",
       "    <tr>\n",
       "      <th>Atlanta (GA)</th>\n",
       "      <td>16602</td>\n",
       "      <td>2779908.20</td>\n",
       "      <td>234837</td>\n",
       "      <td>104794</td>\n",
       "      <td>30044739</td>\n",
       "      <td>2784555</td>\n",
       "    </tr>\n",
       "    <tr>\n",
       "      <th>Austin (TX)</th>\n",
       "      <td>11153</td>\n",
       "      <td>1809873.61</td>\n",
       "      <td>156782</td>\n",
       "      <td>69829</td>\n",
       "      <td>19998197</td>\n",
       "      <td>1812297</td>\n",
       "    </tr>\n",
       "    <tr>\n",
       "      <th>Boston (MA)</th>\n",
       "      <td>22528</td>\n",
       "      <td>3637409.77</td>\n",
       "      <td>312376</td>\n",
       "      <td>141112</td>\n",
       "      <td>40246750</td>\n",
       "      <td>3646904</td>\n",
       "    </tr>\n",
       "    <tr>\n",
       "      <th>Dallas (TX)</th>\n",
       "      <td>16730</td>\n",
       "      <td>2752627.82</td>\n",
       "      <td>234435</td>\n",
       "      <td>104620</td>\n",
       "      <td>29921582</td>\n",
       "      <td>2757017</td>\n",
       "    </tr>\n",
       "    <tr>\n",
       "      <th>Los Angeles (CA)</th>\n",
       "      <td>33289</td>\n",
       "      <td>5421435.23</td>\n",
       "      <td>469607</td>\n",
       "      <td>208325</td>\n",
       "      <td>59772496</td>\n",
       "      <td>5430629</td>\n",
       "    </tr>\n",
       "    <tr>\n",
       "      <th>New York City (NY)</th>\n",
       "      <td>27932</td>\n",
       "      <td>4635370.83</td>\n",
       "      <td>392706</td>\n",
       "      <td>175741</td>\n",
       "      <td>50224654</td>\n",
       "      <td>4645903</td>\n",
       "    </tr>\n",
       "    <tr>\n",
       "      <th>Portland (ME)</th>\n",
       "      <td>2750</td>\n",
       "      <td>447189.25</td>\n",
       "      <td>38288</td>\n",
       "      <td>17144</td>\n",
       "      <td>4956645</td>\n",
       "      <td>447951</td>\n",
       "    </tr>\n",
       "    <tr>\n",
       "      <th>Portland (OR)</th>\n",
       "      <td>11303</td>\n",
       "      <td>1860558.22</td>\n",
       "      <td>159233</td>\n",
       "      <td>70621</td>\n",
       "      <td>20210192</td>\n",
       "      <td>1863342</td>\n",
       "    </tr>\n",
       "    <tr>\n",
       "      <th>San Francisco (CA)</th>\n",
       "      <td>50239</td>\n",
       "      <td>8211461.74</td>\n",
       "      <td>702669</td>\n",
       "      <td>315520</td>\n",
       "      <td>90313920</td>\n",
       "      <td>8229136</td>\n",
       "    </tr>\n",
       "    <tr>\n",
       "      <th>Seattle (WA)</th>\n",
       "      <td>16553</td>\n",
       "      <td>2733296.01</td>\n",
       "      <td>229552</td>\n",
       "      <td>104941</td>\n",
       "      <td>29743909</td>\n",
       "      <td>2736881</td>\n",
       "    </tr>\n",
       "  </tbody>\n",
       "</table>\n",
       "</div>"
      ],
      "text/plain": [
       "                    quantity ordered  price each  order day  order month  \\\n",
       "city                                                                       \n",
       "Atlanta (GA)                   16602  2779908.20     234837       104794   \n",
       "Austin (TX)                    11153  1809873.61     156782        69829   \n",
       "Boston (MA)                    22528  3637409.77     312376       141112   \n",
       "Dallas (TX)                    16730  2752627.82     234435       104620   \n",
       "Los Angeles (CA)               33289  5421435.23     469607       208325   \n",
       "New York City (NY)             27932  4635370.83     392706       175741   \n",
       "Portland (ME)                   2750   447189.25      38288        17144   \n",
       "Portland (OR)                  11303  1860558.22     159233        70621   \n",
       "San Francisco (CA)             50239  8211461.74     702669       315520   \n",
       "Seattle (WA)                   16553  2733296.01     229552       104941   \n",
       "\n",
       "                    order year    sales  \n",
       "city                                     \n",
       "Atlanta (GA)          30044739  2784555  \n",
       "Austin (TX)           19998197  1812297  \n",
       "Boston (MA)           40246750  3646904  \n",
       "Dallas (TX)           29921582  2757017  \n",
       "Los Angeles (CA)      59772496  5430629  \n",
       "New York City (NY)    50224654  4645903  \n",
       "Portland (ME)          4956645   447951  \n",
       "Portland (OR)         20210192  1863342  \n",
       "San Francisco (CA)    90313920  8229136  \n",
       "Seattle (WA)          29743909  2736881  "
      ]
     },
     "execution_count": 77,
     "metadata": {},
     "output_type": "execute_result"
    }
   ],
   "source": [
    "result2 = sales_all.groupby('city').sum()\n",
    "result2"
   ]
  },
  {
   "cell_type": "code",
   "execution_count": 83,
   "id": "f3945067",
   "metadata": {},
   "outputs": [
    {
     "data": {
      "image/png": "[encoded data removed]",
      "text/plain": [
       "<Figure size 640x480 with 1 Axes>"
      ]
     },
     "metadata": {},
     "output_type": "display_data"
    }
   ],
   "source": [
    "cities = [city for city, df in sales_all.groupby('city')]\n",
    "\n",
    "plt.bar(cities, result2['sales'])\n",
    "plt.xticks(cities, rotation='vertical', size=8)\n",
    "plt.xlabel('Cities')\n",
    "plt.ylabel('Sales in USD ($)');"
   ]
  },
  {
   "cell_type": "markdown",
   "id": "fb5cd5e0",
   "metadata": {},
   "source": [
    "### Question 3: What time should we display ads to maximize likelihood of customer's buying product"
   ]
  },
  {
   "cell_type": "markdown",
   "id": "298e8c3b",
   "metadata": {},
   "source": [
    "Let's extract the hour and minute data from order date"
   ]
  },
  {
   "cell_type": "code",
   "execution_count": 86,
   "id": "5e9ed328",
   "metadata": {},
   "outputs": [
    {
     "data": {
      "text/html": [
       "<div>\n",
       "<style scoped>\n",
       "    .dataframe tbody tr th:only-of-type {\n",
       "        vertical-align: middle;\n",
       "    }\n",
       "\n",
       "    .dataframe tbody tr th {\n",
       "        vertical-align: top;\n",
       "    }\n",
       "\n",
       "    .dataframe thead th {\n",
       "        text-align: right;\n",
       "    }\n",
       "</style>\n",
       "<table border=\"1\" class=\"dataframe\">\n",
       "  <thead>\n",
       "    <tr style=\"text-align: right;\">\n",
       "      <th></th>\n",
       "      <th>order id</th>\n",
       "      <th>product</th>\n",
       "      <th>quantity ordered</th>\n",
       "      <th>price each</th>\n",
       "      <th>order date</th>\n",
       "      <th>purchase address</th>\n",
       "      <th>order day</th>\n",
       "      <th>order month</th>\n",
       "      <th>order year</th>\n",
       "      <th>sales</th>\n",
       "      <th>city</th>\n",
       "      <th>hour</th>\n",
       "      <th>minute</th>\n",
       "    </tr>\n",
       "  </thead>\n",
       "  <tbody>\n",
       "    <tr>\n",
       "      <th>0</th>\n",
       "      <td>176558</td>\n",
       "      <td>USB-C Charging Cable</td>\n",
       "      <td>2</td>\n",
       "      <td>11.95</td>\n",
       "      <td>2019-04-19 08:46:00</td>\n",
       "      <td>917 1st St, Dallas, TX 75001</td>\n",
       "      <td>19</td>\n",
       "      <td>4</td>\n",
       "      <td>2019</td>\n",
       "      <td>23</td>\n",
       "      <td>Dallas (TX)</td>\n",
       "      <td>8</td>\n",
       "      <td>46</td>\n",
       "    </tr>\n",
       "    <tr>\n",
       "      <th>2</th>\n",
       "      <td>176559</td>\n",
       "      <td>Bose SoundSport Headphones</td>\n",
       "      <td>1</td>\n",
       "      <td>99.99</td>\n",
       "      <td>2019-04-07 22:30:00</td>\n",
       "      <td>682 Chestnut St, Boston, MA 02215</td>\n",
       "      <td>7</td>\n",
       "      <td>4</td>\n",
       "      <td>2019</td>\n",
       "      <td>99</td>\n",
       "      <td>Boston (MA)</td>\n",
       "      <td>22</td>\n",
       "      <td>30</td>\n",
       "    </tr>\n",
       "    <tr>\n",
       "      <th>3</th>\n",
       "      <td>176560</td>\n",
       "      <td>Google Phone</td>\n",
       "      <td>1</td>\n",
       "      <td>600.00</td>\n",
       "      <td>2019-04-12 14:38:00</td>\n",
       "      <td>669 Spruce St, Los Angeles, CA 90001</td>\n",
       "      <td>12</td>\n",
       "      <td>4</td>\n",
       "      <td>2019</td>\n",
       "      <td>600</td>\n",
       "      <td>Los Angeles (CA)</td>\n",
       "      <td>14</td>\n",
       "      <td>38</td>\n",
       "    </tr>\n",
       "    <tr>\n",
       "      <th>4</th>\n",
       "      <td>176560</td>\n",
       "      <td>Wired Headphones</td>\n",
       "      <td>1</td>\n",
       "      <td>11.99</td>\n",
       "      <td>2019-04-12 14:38:00</td>\n",
       "      <td>669 Spruce St, Los Angeles, CA 90001</td>\n",
       "      <td>12</td>\n",
       "      <td>4</td>\n",
       "      <td>2019</td>\n",
       "      <td>11</td>\n",
       "      <td>Los Angeles (CA)</td>\n",
       "      <td>14</td>\n",
       "      <td>38</td>\n",
       "    </tr>\n",
       "    <tr>\n",
       "      <th>5</th>\n",
       "      <td>176561</td>\n",
       "      <td>Wired Headphones</td>\n",
       "      <td>1</td>\n",
       "      <td>11.99</td>\n",
       "      <td>2019-04-30 09:27:00</td>\n",
       "      <td>333 8th St, Los Angeles, CA 90001</td>\n",
       "      <td>30</td>\n",
       "      <td>4</td>\n",
       "      <td>2019</td>\n",
       "      <td>11</td>\n",
       "      <td>Los Angeles (CA)</td>\n",
       "      <td>9</td>\n",
       "      <td>27</td>\n",
       "    </tr>\n",
       "  </tbody>\n",
       "</table>\n",
       "</div>"
      ],
      "text/plain": [
       "  order id                     product  quantity ordered  price each  \\\n",
       "0   176558        USB-C Charging Cable                 2       11.95   \n",
       "2   176559  Bose SoundSport Headphones                 1       99.99   \n",
       "3   176560                Google Phone                 1      600.00   \n",
       "4   176560            Wired Headphones                 1       11.99   \n",
       "5   176561            Wired Headphones                 1       11.99   \n",
       "\n",
       "           order date                      purchase address  order day  \\\n",
       "0 2019-04-19 08:46:00          917 1st St, Dallas, TX 75001         19   \n",
       "2 2019-04-07 22:30:00     682 Chestnut St, Boston, MA 02215          7   \n",
       "3 2019-04-12 14:38:00  669 Spruce St, Los Angeles, CA 90001         12   \n",
       "4 2019-04-12 14:38:00  669 Spruce St, Los Angeles, CA 90001         12   \n",
       "5 2019-04-30 09:27:00     333 8th St, Los Angeles, CA 90001         30   \n",
       "\n",
       "   order month  order year  sales              city  hour  minute  \n",
       "0            4        2019     23       Dallas (TX)     8      46  \n",
       "2            4        2019     99       Boston (MA)    22      30  \n",
       "3            4        2019    600  Los Angeles (CA)    14      38  \n",
       "4            4        2019     11  Los Angeles (CA)    14      38  \n",
       "5            4        2019     11  Los Angeles (CA)     9      27  "
      ]
     },
     "execution_count": 86,
     "metadata": {},
     "output_type": "execute_result"
    }
   ],
   "source": [
    "sales_all['hour'] = sales_all['order date'].dt.hour\n",
    "sales_all['minute'] = sales_all['order date'].dt.minute\n",
    "sales_all.head()"
   ]
  },
  {
   "cell_type": "markdown",
   "id": "8132d76b",
   "metadata": {},
   "source": [
    "Now i wanna do little checking to make sure our hour and minute data is clean"
   ]
  },
  {
   "cell_type": "code",
   "execution_count": 97,
   "id": "de1cbda8",
   "metadata": {},
   "outputs": [
    {
     "data": {
      "text/plain": [
       "5     3237\n",
       "48    3199\n",
       "27    3182\n",
       "21    3179\n",
       "16    3175\n",
       "19    3175\n",
       "9     3175\n",
       "35    3175\n",
       "52    3169\n",
       "1     3155\n",
       "46    3145\n",
       "7     3136\n",
       "17    3136\n",
       "44    3133\n",
       "36    3131\n",
       "10    3127\n",
       "13    3126\n",
       "11    3123\n",
       "29    3118\n",
       "37    3117\n",
       "30    3117\n",
       "34    3113\n",
       "57    3111\n",
       "22    3111\n",
       "24    3108\n",
       "12    3107\n",
       "53    3100\n",
       "4     3098\n",
       "50    3097\n",
       "55    3094\n",
       "54    3094\n",
       "39    3093\n",
       "32    3089\n",
       "58    3087\n",
       "59    3082\n",
       "43    3081\n",
       "51    3079\n",
       "25    3077\n",
       "23    3074\n",
       "56    3073\n",
       "33    3072\n",
       "28    3071\n",
       "15    3069\n",
       "47    3068\n",
       "0     3065\n",
       "49    3064\n",
       "38    3064\n",
       "2     3057\n",
       "8     3050\n",
       "20    3048\n",
       "45    3045\n",
       "18    3044\n",
       "41    3043\n",
       "40    3042\n",
       "14    3037\n",
       "26    3032\n",
       "42    3024\n",
       "6     3022\n",
       "31    3018\n",
       "3     3017\n",
       "Name: minute, dtype: int64"
      ]
     },
     "execution_count": 97,
     "metadata": {},
     "output_type": "execute_result"
    }
   ],
   "source": [
    "sales_all['hour'].value_counts()\n",
    "sales_all['minute'].value_counts()"
   ]
  },
  {
   "cell_type": "markdown",
   "id": "75bc392c",
   "metadata": {},
   "source": [
    "Now lets plot the result"
   ]
  },
  {
   "cell_type": "code",
   "execution_count": 127,
   "id": "a6dc225e",
   "metadata": {},
   "outputs": [
    {
     "data": {
      "image/png": "[encoded data removed]",
      "text/plain": [
       "<Figure size 640x480 with 1 Axes>"
      ]
     },
     "metadata": {},
     "output_type": "display_data"
    }
   ],
   "source": [
    "import importlib\n",
    "importlib.reload(plt)\n",
    "\n",
    "hours = [hour for hour, df in sales_all.groupby('hour')]\n",
    "\n",
    "xticks = [x for x in range(0,24,2)]\n",
    "\n",
    "plt.plot(hours, sales_all.groupby(['hour']).count())\n",
    "plt.xticks(xticks)\n",
    "plt.grid()\n",
    "plt.xlabel('Hour')\n",
    "plt.ylabel('Number of Orders');"
   ]
  },
  {
   "cell_type": "markdown",
   "id": "c1137740",
   "metadata": {},
   "source": [
    "### Question 4: What products are most often sold together ?"
   ]
  },
  {
   "cell_type": "markdown",
   "id": "d7a5e75a",
   "metadata": {},
   "source": [
    "After looking at our datasets, we can check the products that sold together through order id (which has the same order id)"
   ]
  },
  {
   "cell_type": "code",
   "execution_count": 129,
   "id": "bfd3b928",
   "metadata": {},
   "outputs": [
    {
     "name": "stderr",
     "output_type": "stream",
     "text": [
      "C:\\Users\\chris\\AppData\\Local\\Temp\\ipykernel_4520\\1637361224.py:5: SettingWithCopyWarning: \n",
      "A value is trying to be set on a copy of a slice from a DataFrame.\n",
      "Try using .loc[row_indexer,col_indexer] = value instead\n",
      "\n",
      "See the caveats in the documentation: https://pandas.pydata.org/pandas-docs/stable/user_guide/indexing.html#returning-a-view-versus-a-copy\n",
      "  df1['pack'] = df1.groupby('order id')['product'].transform(lambda x: ','.join(x))\n"
     ]
    },
    {
     "data": {
      "text/html": [
       "<div>\n",
       "<style scoped>\n",
       "    .dataframe tbody tr th:only-of-type {\n",
       "        vertical-align: middle;\n",
       "    }\n",
       "\n",
       "    .dataframe tbody tr th {\n",
       "        vertical-align: top;\n",
       "    }\n",
       "\n",
       "    .dataframe thead th {\n",
       "        text-align: right;\n",
       "    }\n",
       "</style>\n",
       "<table border=\"1\" class=\"dataframe\">\n",
       "  <thead>\n",
       "    <tr style=\"text-align: right;\">\n",
       "      <th></th>\n",
       "      <th>order id</th>\n",
       "      <th>pack</th>\n",
       "    </tr>\n",
       "  </thead>\n",
       "  <tbody>\n",
       "    <tr>\n",
       "      <th>3</th>\n",
       "      <td>176560</td>\n",
       "      <td>Google Phone,Wired Headphones</td>\n",
       "    </tr>\n",
       "    <tr>\n",
       "      <th>18</th>\n",
       "      <td>176574</td>\n",
       "      <td>Google Phone,USB-C Charging Cable</td>\n",
       "    </tr>\n",
       "    <tr>\n",
       "      <th>30</th>\n",
       "      <td>176585</td>\n",
       "      <td>Bose SoundSport Headphones,Bose SoundSport Hea...</td>\n",
       "    </tr>\n",
       "    <tr>\n",
       "      <th>32</th>\n",
       "      <td>176586</td>\n",
       "      <td>AAA Batteries (4-pack),Google Phone</td>\n",
       "    </tr>\n",
       "    <tr>\n",
       "      <th>119</th>\n",
       "      <td>176672</td>\n",
       "      <td>Lightning Charging Cable,USB-C Charging Cable</td>\n",
       "    </tr>\n",
       "    <tr>\n",
       "      <th>...</th>\n",
       "      <td>...</td>\n",
       "      <td>...</td>\n",
       "    </tr>\n",
       "    <tr>\n",
       "      <th>11617</th>\n",
       "      <td>259296</td>\n",
       "      <td>Apple Airpods Headphones,Apple Airpods Headphones</td>\n",
       "    </tr>\n",
       "    <tr>\n",
       "      <th>11619</th>\n",
       "      <td>259297</td>\n",
       "      <td>iPhone,Lightning Charging Cable,Lightning Char...</td>\n",
       "    </tr>\n",
       "    <tr>\n",
       "      <th>11627</th>\n",
       "      <td>259303</td>\n",
       "      <td>34in Ultrawide Monitor,AA Batteries (4-pack)</td>\n",
       "    </tr>\n",
       "    <tr>\n",
       "      <th>11639</th>\n",
       "      <td>259314</td>\n",
       "      <td>Wired Headphones,AAA Batteries (4-pack)</td>\n",
       "    </tr>\n",
       "    <tr>\n",
       "      <th>11677</th>\n",
       "      <td>259350</td>\n",
       "      <td>Google Phone,USB-C Charging Cable</td>\n",
       "    </tr>\n",
       "  </tbody>\n",
       "</table>\n",
       "<p>7136 rows × 2 columns</p>\n",
       "</div>"
      ],
      "text/plain": [
       "      order id                                               pack\n",
       "3       176560                      Google Phone,Wired Headphones\n",
       "18      176574                  Google Phone,USB-C Charging Cable\n",
       "30      176585  Bose SoundSport Headphones,Bose SoundSport Hea...\n",
       "32      176586                AAA Batteries (4-pack),Google Phone\n",
       "119     176672      Lightning Charging Cable,USB-C Charging Cable\n",
       "...        ...                                                ...\n",
       "11617   259296  Apple Airpods Headphones,Apple Airpods Headphones\n",
       "11619   259297  iPhone,Lightning Charging Cable,Lightning Char...\n",
       "11627   259303       34in Ultrawide Monitor,AA Batteries (4-pack)\n",
       "11639   259314            Wired Headphones,AAA Batteries (4-pack)\n",
       "11677   259350                  Google Phone,USB-C Charging Cable\n",
       "\n",
       "[7136 rows x 2 columns]"
      ]
     },
     "execution_count": 129,
     "metadata": {},
     "output_type": "execute_result"
    }
   ],
   "source": [
    "#we make a new dataframe by duplicate order id\n",
    "df1 = sales_all[sales_all['order id'].duplicated(keep=False)]\n",
    "\n",
    "#Group the product in the same column\n",
    "df1['pack'] = df1.groupby('order id')['product'].transform(lambda x: ','.join(x))\n",
    "\n",
    "#then we drop the duplicate so we can count the group pack order\n",
    "df1 = df1[['order id', 'pack']].drop_duplicates()"
   ]
  },
  {
   "cell_type": "code",
   "execution_count": 132,
   "id": "c145cdd1",
   "metadata": {},
   "outputs": [
    {
     "name": "stdout",
     "output_type": "stream",
     "text": [
      "('iPhone', 'Lightning Charging Cable') 1005\n",
      "('Google Phone', 'USB-C Charging Cable') 987\n",
      "('iPhone', 'Wired Headphones') 447\n",
      "('Google Phone', 'Wired Headphones') 414\n",
      "('Vareebadd Phone', 'USB-C Charging Cable') 361\n",
      "('iPhone', 'Apple Airpods Headphones') 360\n",
      "('Google Phone', 'Bose SoundSport Headphones') 220\n",
      "('USB-C Charging Cable', 'Wired Headphones') 160\n",
      "('Vareebadd Phone', 'Wired Headphones') 143\n",
      "('Lightning Charging Cable', 'Wired Headphones') 92\n"
     ]
    }
   ],
   "source": [
    "# we gonna use new libraries for this\n",
    "from itertools import combinations\n",
    "from collections import Counter\n",
    "\n",
    "count = Counter()\n",
    "\n",
    "for row in df1['pack']:\n",
    "    row_list = row.split(',')\n",
    "    count.update(Counter(combinations(row_list, 2)))\n",
    "\n",
    "for key,value in count.most_common(10):\n",
    "    print(key, value)"
   ]
  },
  {
   "cell_type": "markdown",
   "id": "027af2af",
   "metadata": {},
   "source": [
    "### Question 5: What product sold the most? and why?"
   ]
  },
  {
   "cell_type": "code",
   "execution_count": 142,
   "id": "2538ead0",
   "metadata": {},
   "outputs": [
    {
     "data": {
      "text/plain": [
       "''"
      ]
     },
     "execution_count": 142,
     "metadata": {},
     "output_type": "execute_result"
    },
    {
     "data": {
      "image/png": "[encoded data removed]",
      "text/plain": [
       "<Figure size 640x480 with 1 Axes>"
      ]
     },
     "metadata": {},
     "output_type": "display_data"
    }
   ],
   "source": [
    "#lets group the data by product\n",
    "sku = sales_all.groupby('product')\n",
    "sku_quantity = sku.sum()['quantity ordered']\n",
    "\n",
    "products = [product for product, df in sku]\n",
    "\n",
    "plt.bar(products, sku_quantity)\n",
    "plt.xticks(products, rotation='vertical', size=8)\n",
    "plt.ylabel('Number of Orders')\n",
    "plt.xlabel('Product')\n",
    ";"
   ]
  },
  {
   "cell_type": "code",
   "execution_count": 146,
   "id": "75dd08d8",
   "metadata": {},
   "outputs": [
    {
     "name": "stderr",
     "output_type": "stream",
     "text": [
      "C:\\Users\\chris\\AppData\\Local\\Temp\\ipykernel_4520\\3726437255.py:12: UserWarning: FixedFormatter should only be used together with FixedLocator\n",
      "  ax1.set_xticklabels(products, rotation='vertical', size=8)\n",
      "C:\\Users\\chris\\AppData\\Local\\Temp\\ipykernel_4520\\3726437255.py:14: UserWarning: Matplotlib is currently using module://matplotlib_inline.backend_inline, which is a non-GUI backend, so cannot show the figure.\n",
      "  fig.show()\n"
     ]
    },
    {
     "data": {
      "image/png": "[encoded data removed]",
      "text/plain": [
       "<Figure size 640x480 with 2 Axes>"
      ]
     },
     "metadata": {},
     "output_type": "display_data"
    }
   ],
   "source": [
    "prices = sales_all.groupby('product').mean()['price each']\n",
    "\n",
    "fig, ax1 = plt.subplots()\n",
    "\n",
    "ax2 = ax1.twinx()\n",
    "ax1.bar(products, sku_quantity, color='g')\n",
    "ax2.plot(products, prices, color='b')\n",
    "\n",
    "ax1.set_xlabel('Product Name')\n",
    "ax1.set_ylabel('Quantity Ordered', color='g')\n",
    "ax2.set_ylabel('Price ($)', color='b')\n",
    "ax1.set_xticklabels(products, rotation='vertical', size=8)\n",
    "\n",
    "fig.show()"
   ]
  },
  {
   "cell_type": "markdown",
   "id": "6209cb73",
   "metadata": {},
   "source": [
    "## Conclusion"
   ]
  },
  {
   "cell_type": "markdown",
   "id": "dd4ab930",
   "metadata": {},
   "source": [
    "So here's the conclusion of our simple analysis:\n",
    "#### 1 The month with highest sales is December\n",
    "It's holiday time and it's the end of the year. People bless each other with gifts so maybe this is the reason why the sales of electronic products increased during the holiday season. Also with a new year comes people love rewarding themselves with something new"
   ]
  },
  {
   "cell_type": "markdown",
   "id": "0dd32385",
   "metadata": {},
   "source": [
    "#### 2 The city with highest sales is San Fransisco\n",
    "Well my first hypothesis is because the effect of sillicono valley, and also maybe it could be affected by the number of population. but we need extra data to prove this"
   ]
  },
  {
   "cell_type": "markdown",
   "id": "7c22c5a0",
   "metadata": {},
   "source": [
    "#### 3 The time to display ads, is around 10 to 13 and 18 to 20\n",
    "This is the break time or free time for most people who are working in 8 hour-shift that started at 8 am. Yes we also need more data to classify our customer"
   ]
  },
  {
   "cell_type": "markdown",
   "id": "db3a3d8b",
   "metadata": {},
   "source": [
    "#### 4 The products that sold often together is Iphone & Lightning Charging Cable\n",
    "Yea since Apple doesn't include the charger in the package of the new iPhone, customers tend to buy the charger also."
   ]
  },
  {
   "cell_type": "markdown",
   "id": "61ce4db7",
   "metadata": {},
   "source": [
    "#### 5 The product that sold the most is AAA-Batteries\n",
    "Based on the price of each product, AAA-batteries is considered the cheapest ones, and also it has a wide range functions or usage"
   ]
  },
  {
   "cell_type": "markdown",
   "id": "95f5eb96",
   "metadata": {},
   "source": [
    "Last, lets export our data and try to visualize it into Tableau"
   ]
  },
  {
   "cell_type": "code",
   "execution_count": null,
   "id": "d4fc047c",
   "metadata": {},
   "outputs": [],
   "source": []
  }
 ],
 "metadata": {
  "kernelspec": {
   "display_name": "Python 3 (ipykernel)",
   "language": "python",
   "name": "python3"
  },
  "language_info": {
   "codemirror_mode": {
    "name": "ipython",
    "version": 3
   },
   "file_extension": ".py",
   "mimetype": "text/x-python",
   "name": "python",
   "nbconvert_exporter": "python",
   "pygments_lexer": "ipython3",
   "version": "3.9.13"
  }
 },
 "nbformat": 4,
 "nbformat_minor": 5
}
